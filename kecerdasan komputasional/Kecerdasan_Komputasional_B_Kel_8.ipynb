{
  "nbformat": 4,
  "nbformat_minor": 0,
  "metadata": {
    "colab": {
      "name": "Kecerdasan Komputasional B - Kel. 8.ipynb",
      "provenance": [],
      "collapsed_sections": [],
      "include_colab_link": true
    },
    "kernelspec": {
      "name": "python3",
      "display_name": "Python 3"
    },
    "language_info": {
      "name": "python"
    }
  },
  "cells": [
    {
      "cell_type": "markdown",
      "metadata": {
        "id": "view-in-github",
        "colab_type": "text"
      },
      "source": [
        "<a href=\"https://colab.research.google.com/github/sultanardian/dqlab-data-science-course/blob/main/kecerdasan%20komputasional/Kecerdasan_Komputasional_B_Kel_8.ipynb\" target=\"_parent\"><img src=\"https://colab.research.google.com/assets/colab-badge.svg\" alt=\"Open In Colab\"/></a>"
      ]
    },
    {
      "cell_type": "code",
      "metadata": {
        "colab": {
          "base_uri": "https://localhost:8080/"
        },
        "id": "7QLozHt7O4HT",
        "outputId": "f61fdeba-9a49-42fd-ba4a-ed3d6fa08d42"
      },
      "source": [
        "# Check version of the libraries\n",
        "import sys\n",
        "import scipy\n",
        "import numpy\n",
        "import matplotlib\n",
        "import pandas as pd\n",
        "import sklearn\n",
        "\n",
        "print('python: {}'.format(sys.version))\n",
        "print('scipy: {}'.format(scipy.__version__))\n",
        "print('numpy: {}'.format(numpy.__version__))\n",
        "print('matplotlib: {}'.format(matplotlib.__version__))\n",
        "print('pandas: {}'.format(pd.__version__))\n",
        "print('sklearn: {}'.format(sklearn.__version__))"
      ],
      "execution_count": null,
      "outputs": [
        {
          "output_type": "stream",
          "name": "stdout",
          "text": [
            "python: 3.7.12 (default, Sep 10 2021, 00:21:48) \n",
            "[GCC 7.5.0]\n",
            "scipy: 1.4.1\n",
            "numpy: 1.19.5\n",
            "matplotlib: 3.2.2\n",
            "pandas: 1.1.5\n",
            "sklearn: 0.22.2.post1\n"
          ]
        }
      ]
    },
    {
      "cell_type": "code",
      "metadata": {
        "id": "KBeLUgV8PxDX"
      },
      "source": [
        "# Load libraries\n",
        "from pandas.plotting import scatter_matrix\n",
        "import matplotlib.pyplot as plt\n",
        "from sklearn import model_selection\n",
        "from sklearn.metrics import classification_report, confusion_matrix, accuracy_score\n",
        "from sklearn.linear_model import LogisticRegression\n",
        "from sklearn.tree import DecisionTreeClassifier\n",
        "from sklearn.neighbors import KNeighborsClassifier\n",
        "from sklearn.discriminant_analysis import LinearDiscriminantAnalysis\n",
        "from sklearn.naive_bayes import GaussianNB\n",
        "from sklearn.svm import SVC"
      ],
      "execution_count": null,
      "outputs": []
    },
    {
      "cell_type": "code",
      "metadata": {
        "colab": {
          "base_uri": "https://localhost:8080/",
          "height": 206
        },
        "id": "SO23Rn3oQcel",
        "outputId": "b28d9a9d-f2c5-4b5e-deaa-d861ce53f96d"
      },
      "source": [
        "# Load dataset\n",
        "df = pd.read_csv('/content/drug200.csv')\n",
        "df.head()"
      ],
      "execution_count": null,
      "outputs": [
        {
          "output_type": "execute_result",
          "data": {
            "text/html": [
              "<div>\n",
              "<style scoped>\n",
              "    .dataframe tbody tr th:only-of-type {\n",
              "        vertical-align: middle;\n",
              "    }\n",
              "\n",
              "    .dataframe tbody tr th {\n",
              "        vertical-align: top;\n",
              "    }\n",
              "\n",
              "    .dataframe thead th {\n",
              "        text-align: right;\n",
              "    }\n",
              "</style>\n",
              "<table border=\"1\" class=\"dataframe\">\n",
              "  <thead>\n",
              "    <tr style=\"text-align: right;\">\n",
              "      <th></th>\n",
              "      <th>Age</th>\n",
              "      <th>Sex</th>\n",
              "      <th>BP</th>\n",
              "      <th>Cholesterol</th>\n",
              "      <th>Na_to_K</th>\n",
              "      <th>Drug</th>\n",
              "    </tr>\n",
              "  </thead>\n",
              "  <tbody>\n",
              "    <tr>\n",
              "      <th>0</th>\n",
              "      <td>23</td>\n",
              "      <td>F</td>\n",
              "      <td>HIGH</td>\n",
              "      <td>HIGH</td>\n",
              "      <td>25.355</td>\n",
              "      <td>DrugY</td>\n",
              "    </tr>\n",
              "    <tr>\n",
              "      <th>1</th>\n",
              "      <td>47</td>\n",
              "      <td>M</td>\n",
              "      <td>LOW</td>\n",
              "      <td>HIGH</td>\n",
              "      <td>13.093</td>\n",
              "      <td>drugC</td>\n",
              "    </tr>\n",
              "    <tr>\n",
              "      <th>2</th>\n",
              "      <td>47</td>\n",
              "      <td>M</td>\n",
              "      <td>LOW</td>\n",
              "      <td>HIGH</td>\n",
              "      <td>10.114</td>\n",
              "      <td>drugC</td>\n",
              "    </tr>\n",
              "    <tr>\n",
              "      <th>3</th>\n",
              "      <td>28</td>\n",
              "      <td>F</td>\n",
              "      <td>NORMAL</td>\n",
              "      <td>HIGH</td>\n",
              "      <td>7.798</td>\n",
              "      <td>drugX</td>\n",
              "    </tr>\n",
              "    <tr>\n",
              "      <th>4</th>\n",
              "      <td>61</td>\n",
              "      <td>F</td>\n",
              "      <td>LOW</td>\n",
              "      <td>HIGH</td>\n",
              "      <td>18.043</td>\n",
              "      <td>DrugY</td>\n",
              "    </tr>\n",
              "  </tbody>\n",
              "</table>\n",
              "</div>"
            ],
            "text/plain": [
              "   Age Sex      BP Cholesterol  Na_to_K   Drug\n",
              "0   23   F    HIGH        HIGH   25.355  DrugY\n",
              "1   47   M     LOW        HIGH   13.093  drugC\n",
              "2   47   M     LOW        HIGH   10.114  drugC\n",
              "3   28   F  NORMAL        HIGH    7.798  drugX\n",
              "4   61   F     LOW        HIGH   18.043  DrugY"
            ]
          },
          "metadata": {},
          "execution_count": 22
        }
      ]
    },
    {
      "cell_type": "code",
      "metadata": {
        "colab": {
          "base_uri": "https://localhost:8080/"
        },
        "id": "HZmpC_rLRNXw",
        "outputId": "bfc07332-6a27-4283-ef25-92d47b927be6"
      },
      "source": [
        "# Summarize dataset\n",
        "print(df.shape, '\\n')\n",
        "print(df.describe, '\\n')\n",
        "print(df.groupby('Drug').size(), '\\n')"
      ],
      "execution_count": null,
      "outputs": [
        {
          "output_type": "stream",
          "name": "stdout",
          "text": [
            "(200, 6) \n",
            "\n",
            "<bound method NDFrame.describe of      Age Sex      BP Cholesterol  Na_to_K   Drug\n",
            "0     23   F    HIGH        HIGH   25.355  DrugY\n",
            "1     47   M     LOW        HIGH   13.093  drugC\n",
            "2     47   M     LOW        HIGH   10.114  drugC\n",
            "3     28   F  NORMAL        HIGH    7.798  drugX\n",
            "4     61   F     LOW        HIGH   18.043  DrugY\n",
            "..   ...  ..     ...         ...      ...    ...\n",
            "195   56   F     LOW        HIGH   11.567  drugC\n",
            "196   16   M     LOW        HIGH   12.006  drugC\n",
            "197   52   M  NORMAL        HIGH    9.894  drugX\n",
            "198   23   M  NORMAL      NORMAL   14.020  drugX\n",
            "199   40   F     LOW      NORMAL   11.349  drugX\n",
            "\n",
            "[200 rows x 6 columns]> \n",
            "\n",
            "Drug\n",
            "DrugY    91\n",
            "drugA    23\n",
            "drugB    16\n",
            "drugC    16\n",
            "drugX    54\n",
            "dtype: int64 \n",
            "\n"
          ]
        }
      ]
    },
    {
      "cell_type": "code",
      "metadata": {
        "id": "BKg4NyMDWR9c"
      },
      "source": [
        "# Preprocessing\n",
        "from sklearn.preprocessing import LabelEncoder\n",
        "\n",
        "feats = df.drop('Drug', axis = 1)\n",
        "cat_col_feats = feats.dtypes[feats.dtypes == 'object'].index\n",
        "\n",
        "LE = LabelEncoder()\n",
        "\n",
        "for col in cat_col_feats:\n",
        "    df[col] = LE.fit_transform(df[col])"
      ],
      "execution_count": null,
      "outputs": []
    },
    {
      "cell_type": "code",
      "metadata": {
        "colab": {
          "base_uri": "https://localhost:8080/",
          "height": 620
        },
        "id": "D5kjGp2LRo0F",
        "outputId": "825461a8-b852-49c9-a5d6-4700ae9baf21"
      },
      "source": [
        "# Visualize the dataset\n",
        "# boxplot\n",
        "df.plot(kind = 'box', subplots = True, layout = (5, 5), sharex = False, sharey = False)\n",
        "plt.show()\n",
        "\n",
        "# histogram\n",
        "df.hist()\n",
        "plt.show()\n",
        "\n",
        "# scatterplot matrix\n",
        "scatter_matrix(df)\n",
        "plt.show()"
      ],
      "execution_count": null,
      "outputs": [
        {
          "output_type": "display_data",
          "data": {
            "image/png": "[encoded data removed]",
            "text/plain": [
              "<Figure size 432x288 with 25 Axes>"
            ]
          },
          "metadata": {
            "needs_background": "light"
          }
        },
        {
          "output_type": "display_data",
          "data": {
            "image/png": "[encoded data removed]",
            "text/plain": [
              "<Figure size 432x288 with 6 Axes>"
            ]
          },
          "metadata": {
            "needs_background": "light"
          }
        },
        {
          "output_type": "display_data",
          "data": {
            "image/png": "[encoded data removed]",
            "text/plain": [
              "<Figure size 432x288 with 25 Axes>"
            ]
          },
          "metadata": {
            "needs_background": "light"
          }
        }
      ]
    },
    {
      "cell_type": "code",
      "metadata": {
        "colab": {
          "base_uri": "https://localhost:8080/",
          "height": 1000
        },
        "id": "uGUBaY1CSzhm",
        "outputId": "cbda5127-b93c-4d6e-8814-05b607575398"
      },
      "source": [
        "# Evaluate algorithms\n",
        "\n",
        "# Get train and test validation set\n",
        "x = df.drop('Drug', axis = 1)\n",
        "y = df['Drug']\n",
        "\n",
        "X_train, X_test, Y_train, Y_test = model_selection.train_test_split(x, y, test_size = 0.2, random_state = 7)\n",
        "\n",
        "# Test harness\n",
        "seed = 7\n",
        "scoring = 'accuracy'\n",
        "\n",
        "# Spot check algorithms\n",
        "models = []\n",
        "models.append(('LR', LogisticRegression()))\n",
        "models.append(('LDA', LinearDiscriminantAnalysis()))\n",
        "models.append(('KNN', KNeighborsClassifier()))\n",
        "models.append(('CART', DecisionTreeClassifier()))\n",
        "models.append(('NB', GaussianNB()))\n",
        "models.append(('SVM', SVC()))\n",
        "\n",
        "# Evaluate each model in turn\n",
        "results = []\n",
        "names = []\n",
        "KFoldSplits = 10\n",
        "\n",
        "for name, model in models:\n",
        "    kfold = model_selection.KFold(n_splits = KFoldSplits, random_state = seed)\n",
        "    cv_results = model_selection.cross_val_score(model, X_train, Y_train, cv = kfold, scoring = scoring)\n",
        "    results.append(cv_results)\n",
        "    names.append(name)\n",
        "    print('{} : mean {}, std ({})'.format(name, format(cv_results.mean(), '.3f'), format(cv_results.std(), '.3f')))\n",
        "\n",
        "# Compare algorithms\n",
        "fig = plt.figure()\n",
        "fig.suptitle('Algorithms Comparison')\n",
        "ax = fig.add_subplot(111)\n",
        "plt.boxplot(results)\n",
        "ax.set_xticklabels(names)\n",
        "plt.show()"
      ],
      "execution_count": null,
      "outputs": [
        {
          "output_type": "stream",
          "name": "stderr",
          "text": [
            "/usr/local/lib/python3.7/dist-packages/sklearn/model_selection/_split.py:296: FutureWarning: Setting a random_state has no effect since shuffle is False. This will raise an error in 0.24. You should leave random_state to its default (None), or set shuffle=True.\n",
            "  FutureWarning\n",
            "/usr/local/lib/python3.7/dist-packages/sklearn/linear_model/_logistic.py:940: ConvergenceWarning: lbfgs failed to converge (status=1):\n",
            "STOP: TOTAL NO. of ITERATIONS REACHED LIMIT.\n",
            "\n",
            "Increase the number of iterations (max_iter) or scale the data as shown in:\n",
            "    https://scikit-learn.org/stable/modules/preprocessing.html\n",
            "Please also refer to the documentation for alternative solver options:\n",
            "    https://scikit-learn.org/stable/modules/linear_model.html#logistic-regression\n",
            "  extra_warning_msg=_LOGISTIC_SOLVER_CONVERGENCE_MSG)\n",
            "/usr/local/lib/python3.7/dist-packages/sklearn/linear_model/_logistic.py:940: ConvergenceWarning: lbfgs failed to converge (status=1):\n",
            "STOP: TOTAL NO. of ITERATIONS REACHED LIMIT.\n",
            "\n",
            "Increase the number of iterations (max_iter) or scale the data as shown in:\n",
            "    https://scikit-learn.org/stable/modules/preprocessing.html\n",
            "Please also refer to the documentation for alternative solver options:\n",
            "    https://scikit-learn.org/stable/modules/linear_model.html#logistic-regression\n",
            "  extra_warning_msg=_LOGISTIC_SOLVER_CONVERGENCE_MSG)\n",
            "/usr/local/lib/python3.7/dist-packages/sklearn/linear_model/_logistic.py:940: ConvergenceWarning: lbfgs failed to converge (status=1):\n",
            "STOP: TOTAL NO. of ITERATIONS REACHED LIMIT.\n",
            "\n",
            "Increase the number of iterations (max_iter) or scale the data as shown in:\n",
            "    https://scikit-learn.org/stable/modules/preprocessing.html\n",
            "Please also refer to the documentation for alternative solver options:\n",
            "    https://scikit-learn.org/stable/modules/linear_model.html#logistic-regression\n",
            "  extra_warning_msg=_LOGISTIC_SOLVER_CONVERGENCE_MSG)\n",
            "/usr/local/lib/python3.7/dist-packages/sklearn/linear_model/_logistic.py:940: ConvergenceWarning: lbfgs failed to converge (status=1):\n",
            "STOP: TOTAL NO. of ITERATIONS REACHED LIMIT.\n",
            "\n",
            "Increase the number of iterations (max_iter) or scale the data as shown in:\n",
            "    https://scikit-learn.org/stable/modules/preprocessing.html\n",
            "Please also refer to the documentation for alternative solver options:\n",
            "    https://scikit-learn.org/stable/modules/linear_model.html#logistic-regression\n",
            "  extra_warning_msg=_LOGISTIC_SOLVER_CONVERGENCE_MSG)\n",
            "/usr/local/lib/python3.7/dist-packages/sklearn/linear_model/_logistic.py:940: ConvergenceWarning: lbfgs failed to converge (status=1):\n",
            "STOP: TOTAL NO. of ITERATIONS REACHED LIMIT.\n",
            "\n",
            "Increase the number of iterations (max_iter) or scale the data as shown in:\n",
            "    https://scikit-learn.org/stable/modules/preprocessing.html\n",
            "Please also refer to the documentation for alternative solver options:\n",
            "    https://scikit-learn.org/stable/modules/linear_model.html#logistic-regression\n",
            "  extra_warning_msg=_LOGISTIC_SOLVER_CONVERGENCE_MSG)\n",
            "/usr/local/lib/python3.7/dist-packages/sklearn/linear_model/_logistic.py:940: ConvergenceWarning: lbfgs failed to converge (status=1):\n",
            "STOP: TOTAL NO. of ITERATIONS REACHED LIMIT.\n",
            "\n",
            "Increase the number of iterations (max_iter) or scale the data as shown in:\n",
            "    https://scikit-learn.org/stable/modules/preprocessing.html\n",
            "Please also refer to the documentation for alternative solver options:\n",
            "    https://scikit-learn.org/stable/modules/linear_model.html#logistic-regression\n",
            "  extra_warning_msg=_LOGISTIC_SOLVER_CONVERGENCE_MSG)\n",
            "/usr/local/lib/python3.7/dist-packages/sklearn/linear_model/_logistic.py:940: ConvergenceWarning: lbfgs failed to converge (status=1):\n",
            "STOP: TOTAL NO. of ITERATIONS REACHED LIMIT.\n",
            "\n",
            "Increase the number of iterations (max_iter) or scale the data as shown in:\n",
            "    https://scikit-learn.org/stable/modules/preprocessing.html\n",
            "Please also refer to the documentation for alternative solver options:\n",
            "    https://scikit-learn.org/stable/modules/linear_model.html#logistic-regression\n",
            "  extra_warning_msg=_LOGISTIC_SOLVER_CONVERGENCE_MSG)\n",
            "/usr/local/lib/python3.7/dist-packages/sklearn/linear_model/_logistic.py:940: ConvergenceWarning: lbfgs failed to converge (status=1):\n",
            "STOP: TOTAL NO. of ITERATIONS REACHED LIMIT.\n",
            "\n",
            "Increase the number of iterations (max_iter) or scale the data as shown in:\n",
            "    https://scikit-learn.org/stable/modules/preprocessing.html\n",
            "Please also refer to the documentation for alternative solver options:\n",
            "    https://scikit-learn.org/stable/modules/linear_model.html#logistic-regression\n",
            "  extra_warning_msg=_LOGISTIC_SOLVER_CONVERGENCE_MSG)\n",
            "/usr/local/lib/python3.7/dist-packages/sklearn/linear_model/_logistic.py:940: ConvergenceWarning: lbfgs failed to converge (status=1):\n",
            "STOP: TOTAL NO. of ITERATIONS REACHED LIMIT.\n",
            "\n",
            "Increase the number of iterations (max_iter) or scale the data as shown in:\n",
            "    https://scikit-learn.org/stable/modules/preprocessing.html\n",
            "Please also refer to the documentation for alternative solver options:\n",
            "    https://scikit-learn.org/stable/modules/linear_model.html#logistic-regression\n",
            "  extra_warning_msg=_LOGISTIC_SOLVER_CONVERGENCE_MSG)\n",
            "/usr/local/lib/python3.7/dist-packages/sklearn/linear_model/_logistic.py:940: ConvergenceWarning: lbfgs failed to converge (status=1):\n",
            "STOP: TOTAL NO. of ITERATIONS REACHED LIMIT.\n",
            "\n",
            "Increase the number of iterations (max_iter) or scale the data as shown in:\n",
            "    https://scikit-learn.org/stable/modules/preprocessing.html\n",
            "Please also refer to the documentation for alternative solver options:\n",
            "    https://scikit-learn.org/stable/modules/linear_model.html#logistic-regression\n",
            "  extra_warning_msg=_LOGISTIC_SOLVER_CONVERGENCE_MSG)\n",
            "/usr/local/lib/python3.7/dist-packages/sklearn/model_selection/_split.py:296: FutureWarning: Setting a random_state has no effect since shuffle is False. This will raise an error in 0.24. You should leave random_state to its default (None), or set shuffle=True.\n",
            "  FutureWarning\n",
            "/usr/local/lib/python3.7/dist-packages/sklearn/model_selection/_split.py:296: FutureWarning: Setting a random_state has no effect since shuffle is False. This will raise an error in 0.24. You should leave random_state to its default (None), or set shuffle=True.\n",
            "  FutureWarning\n",
            "/usr/local/lib/python3.7/dist-packages/sklearn/model_selection/_split.py:296: FutureWarning: Setting a random_state has no effect since shuffle is False. This will raise an error in 0.24. You should leave random_state to its default (None), or set shuffle=True.\n",
            "  FutureWarning\n",
            "/usr/local/lib/python3.7/dist-packages/sklearn/model_selection/_split.py:296: FutureWarning: Setting a random_state has no effect since shuffle is False. This will raise an error in 0.24. You should leave random_state to its default (None), or set shuffle=True.\n",
            "  FutureWarning\n",
            "/usr/local/lib/python3.7/dist-packages/sklearn/model_selection/_split.py:296: FutureWarning: Setting a random_state has no effect since shuffle is False. This will raise an error in 0.24. You should leave random_state to its default (None), or set shuffle=True.\n",
            "  FutureWarning\n"
          ]
        },
        {
          "output_type": "stream",
          "name": "stdout",
          "text": [
            "LR : mean 0.856, std (0.056)\n",
            "LDA : mean 0.894, std (0.063)\n",
            "KNN : mean 0.644, std (0.108)\n",
            "CART : mean 1.000, std (0.000)\n",
            "NB : mean 0.881, std (0.071)\n",
            "SVM : mean 0.713, std (0.089)\n"
          ]
        },
        {
          "output_type": "display_data",
          "data": {
            "image/png": "[encoded data removed]",
            "text/plain": [
              "<Figure size 432x288 with 1 Axes>"
            ]
          },
          "metadata": {
            "needs_background": "light"
          }
        }
      ]
    },
    {
      "cell_type": "code",
      "metadata": {
        "colab": {
          "base_uri": "https://localhost:8080/"
        },
        "id": "gpG-X21kUWvs",
        "outputId": "7948f1a5-556b-4f92-89d8-586c1517bc93"
      },
      "source": [
        "SVM = SVC()\n",
        "SVM.fit(X_train, Y_train)\n",
        "predict = SVM.predict(X_test)\n",
        "acc_score = accuracy_score(Y_test, predict)\n",
        "\n",
        "print('Accuracy of SVM model : {} \\n'.format(acc_score))\n",
        "print('Confusion matrix :\\n {} \\n'.format(confusion_matrix(Y_test, predict)))\n",
        "print('Classification report :\\n {} \\n'.format(classification_report(Y_test, predict)))"
      ],
      "execution_count": null,
      "outputs": [
        {
          "output_type": "stream",
          "name": "stdout",
          "text": [
            "Accuracy of SVM model : 0.625 \n",
            "\n",
            "Confusion matrix :\n",
            " [[18  0  0  0  0]\n",
            " [ 0  0  0  0  4]\n",
            " [ 2  0  0  0  4]\n",
            " [ 0  0  0  0  4]\n",
            " [ 1  0  0  0  7]] \n",
            "\n",
            "Classification report :\n",
            "               precision    recall  f1-score   support\n",
            "\n",
            "       DrugY       0.86      1.00      0.92        18\n",
            "       drugA       0.00      0.00      0.00         4\n",
            "       drugB       0.00      0.00      0.00         6\n",
            "       drugC       0.00      0.00      0.00         4\n",
            "       drugX       0.37      0.88      0.52         8\n",
            "\n",
            "    accuracy                           0.62        40\n",
            "   macro avg       0.25      0.38      0.29        40\n",
            "weighted avg       0.46      0.62      0.52        40\n",
            " \n",
            "\n"
          ]
        },
        {
          "output_type": "stream",
          "name": "stderr",
          "text": [
            "/usr/local/lib/python3.7/dist-packages/sklearn/metrics/_classification.py:1272: UndefinedMetricWarning: Precision and F-score are ill-defined and being set to 0.0 in labels with no predicted samples. Use `zero_division` parameter to control this behavior.\n",
            "  _warn_prf(average, modifier, msg_start, len(result))\n"
          ]
        }
      ]
    },
    {
      "cell_type": "code",
      "metadata": {
        "colab": {
          "base_uri": "https://localhost:8080/"
        },
        "id": "lyG7MpVyYMLK",
        "outputId": "1458cc69-2e36-429d-e667-d7a836881d2e"
      },
      "source": [
        "KNN = KNeighborsClassifier()\n",
        "KNN.fit(X_train, Y_train)\n",
        "predict = KNN.predict(X_test)\n",
        "acc_score = accuracy_score(Y_test, predict)\n",
        "\n",
        "print('Accuracy of KNN model : {} \\n'.format(acc_score))\n",
        "print('Confusion matrix :\\n {} \\n'.format(confusion_matrix(Y_test, predict)))\n",
        "print('Classification report :\\n {} \\n'.format(classification_report(Y_test, predict)))"
      ],
      "execution_count": null,
      "outputs": [
        {
          "output_type": "stream",
          "name": "stdout",
          "text": [
            "Accuracy of KNN model : 0.7 \n",
            "\n",
            "Confusion matrix :\n",
            " [[17  0  0  0  1]\n",
            " [ 0  3  0  0  1]\n",
            " [ 0  0  4  0  2]\n",
            " [ 0  3  1  0  0]\n",
            " [ 1  1  2  0  4]] \n",
            "\n",
            "Classification report :\n",
            "               precision    recall  f1-score   support\n",
            "\n",
            "       DrugY       0.94      0.94      0.94        18\n",
            "       drugA       0.43      0.75      0.55         4\n",
            "       drugB       0.57      0.67      0.62         6\n",
            "       drugC       0.00      0.00      0.00         4\n",
            "       drugX       0.50      0.50      0.50         8\n",
            "\n",
            "    accuracy                           0.70        40\n",
            "   macro avg       0.49      0.57      0.52        40\n",
            "weighted avg       0.65      0.70      0.67        40\n",
            " \n",
            "\n"
          ]
        },
        {
          "output_type": "stream",
          "name": "stderr",
          "text": [
            "/usr/local/lib/python3.7/dist-packages/sklearn/metrics/_classification.py:1272: UndefinedMetricWarning: Precision and F-score are ill-defined and being set to 0.0 in labels with no predicted samples. Use `zero_division` parameter to control this behavior.\n",
            "  _warn_prf(average, modifier, msg_start, len(result))\n"
          ]
        }
      ]
    }
  ]
}